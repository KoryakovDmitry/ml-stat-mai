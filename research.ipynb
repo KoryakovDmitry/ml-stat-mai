{
 "cells": [
  {
   "cell_type": "code",
   "execution_count": 3,
   "metadata": {
    "collapsed": true,
    "ExecuteTime": {
     "end_time": "2023-09-24T22:40:55.667099143Z",
     "start_time": "2023-09-24T22:40:55.321443388Z"
    }
   },
   "outputs": [],
   "source": [
    "import matplotlib.pyplot as plt\n",
    "import pandas as pd\n",
    "import numpy as np\n",
    "import os\n"
   ]
  },
  {
   "cell_type": "code",
   "execution_count": 4,
   "outputs": [],
   "source": [
    "df = pd.read_csv(\"datasets/Provisional_COVID-19_Deaths_by_Sex_and_Age.csv\")"
   ],
   "metadata": {
    "collapsed": false,
    "ExecuteTime": {
     "end_time": "2023-09-24T22:40:55.800425796Z",
     "start_time": "2023-09-24T22:40:55.668279050Z"
    }
   }
  },
  {
   "cell_type": "code",
   "execution_count": 5,
   "outputs": [
    {
     "name": "stdout",
     "output_type": "stream",
     "text": [
      "<class 'pandas.core.frame.DataFrame'>\n",
      "RangeIndex: 137700 entries, 0 to 137699\n",
      "Data columns (total 16 columns):\n",
      " #   Column                                    Non-Null Count   Dtype  \n",
      "---  ------                                    --------------   -----  \n",
      " 0   Data As Of                                137700 non-null  object \n",
      " 1   Start Date                                137700 non-null  object \n",
      " 2   End Date                                  137700 non-null  object \n",
      " 3   Group                                     137700 non-null  object \n",
      " 4   Year                                      134946 non-null  float64\n",
      " 5   Month                                     123930 non-null  float64\n",
      " 6   State                                     137700 non-null  object \n",
      " 7   Sex                                       137700 non-null  object \n",
      " 8   Age Group                                 137700 non-null  object \n",
      " 9   COVID-19 Deaths                           98356 non-null   float64\n",
      " 10  Total Deaths                              118049 non-null  float64\n",
      " 11  Pneumonia Deaths                          92892 non-null   float64\n",
      " 12  Pneumonia and COVID-19 Deaths             100920 non-null  float64\n",
      " 13  Influenza Deaths                          111102 non-null  float64\n",
      " 14  Pneumonia, Influenza, or COVID-19 Deaths  93511 non-null   float64\n",
      " 15  Footnote                                  97802 non-null   object \n",
      "dtypes: float64(8), object(8)\n",
      "memory usage: 16.8+ MB\n"
     ]
    }
   ],
   "source": [
    "df.info()"
   ],
   "metadata": {
    "collapsed": false,
    "ExecuteTime": {
     "end_time": "2023-09-24T22:41:00.924799734Z",
     "start_time": "2023-09-24T22:41:00.879932103Z"
    }
   }
  },
  {
   "cell_type": "code",
   "execution_count": 6,
   "outputs": [
    {
     "data": {
      "text/plain": "                Year          Month  COVID-19 Deaths  Total Deaths  \\\ncount  134946.000000  123930.000000     9.835600e+04  1.180490e+05   \nmean     2021.408163       6.200000     3.129698e+02  2.831617e+03   \nstd         1.086439       3.350635     5.984412e+03  5.598458e+04   \nmin      2020.000000       1.000000     0.000000e+00  0.000000e+00   \n25%      2020.000000       3.000000     0.000000e+00  4.200000e+01   \n50%      2021.000000       6.000000     0.000000e+00  1.520000e+02   \n75%      2022.000000       9.000000     5.000000e+01  6.540000e+02   \nmax      2023.000000      12.000000     1.145443e+06  1.224392e+07   \n\n       Pneumonia Deaths  Pneumonia and COVID-19 Deaths  Influenza Deaths  \\\ncount      9.289200e+04                  100920.000000     111102.000000   \nmean       3.354171e+02                     152.225119          4.991764   \nstd        6.109483e+03                    2977.313816        110.438533   \nmin        0.000000e+00                       0.000000          0.000000   \n25%        0.000000e+00                       0.000000          0.000000   \n50%        1.700000e+01                       0.000000          0.000000   \n75%        7.400000e+01                      21.000000          0.000000   \nmax        1.159433e+06                  568733.000000      22198.000000   \n\n       Pneumonia, Influenza, or COVID-19 Deaths  \ncount                              9.351100e+04  \nmean                               5.040551e+02  \nstd                                9.236265e+03  \nmin                                0.000000e+00  \n25%                                0.000000e+00  \n50%                                2.500000e+01  \n75%                                1.060000e+02  \nmax                                1.755856e+06  ",
      "text/html": "<div>\n<style scoped>\n    .dataframe tbody tr th:only-of-type {\n        vertical-align: middle;\n    }\n\n    .dataframe tbody tr th {\n        vertical-align: top;\n    }\n\n    .dataframe thead th {\n        text-align: right;\n    }\n</style>\n<table border=\"1\" class=\"dataframe\">\n  <thead>\n    <tr style=\"text-align: right;\">\n      <th></th>\n      <th>Year</th>\n      <th>Month</th>\n      <th>COVID-19 Deaths</th>\n      <th>Total Deaths</th>\n      <th>Pneumonia Deaths</th>\n      <th>Pneumonia and COVID-19 Deaths</th>\n      <th>Influenza Deaths</th>\n      <th>Pneumonia, Influenza, or COVID-19 Deaths</th>\n    </tr>\n  </thead>\n  <tbody>\n    <tr>\n      <th>count</th>\n      <td>134946.000000</td>\n      <td>123930.000000</td>\n      <td>9.835600e+04</td>\n      <td>1.180490e+05</td>\n      <td>9.289200e+04</td>\n      <td>100920.000000</td>\n      <td>111102.000000</td>\n      <td>9.351100e+04</td>\n    </tr>\n    <tr>\n      <th>mean</th>\n      <td>2021.408163</td>\n      <td>6.200000</td>\n      <td>3.129698e+02</td>\n      <td>2.831617e+03</td>\n      <td>3.354171e+02</td>\n      <td>152.225119</td>\n      <td>4.991764</td>\n      <td>5.040551e+02</td>\n    </tr>\n    <tr>\n      <th>std</th>\n      <td>1.086439</td>\n      <td>3.350635</td>\n      <td>5.984412e+03</td>\n      <td>5.598458e+04</td>\n      <td>6.109483e+03</td>\n      <td>2977.313816</td>\n      <td>110.438533</td>\n      <td>9.236265e+03</td>\n    </tr>\n    <tr>\n      <th>min</th>\n      <td>2020.000000</td>\n      <td>1.000000</td>\n      <td>0.000000e+00</td>\n      <td>0.000000e+00</td>\n      <td>0.000000e+00</td>\n      <td>0.000000</td>\n      <td>0.000000</td>\n      <td>0.000000e+00</td>\n    </tr>\n    <tr>\n      <th>25%</th>\n      <td>2020.000000</td>\n      <td>3.000000</td>\n      <td>0.000000e+00</td>\n      <td>4.200000e+01</td>\n      <td>0.000000e+00</td>\n      <td>0.000000</td>\n      <td>0.000000</td>\n      <td>0.000000e+00</td>\n    </tr>\n    <tr>\n      <th>50%</th>\n      <td>2021.000000</td>\n      <td>6.000000</td>\n      <td>0.000000e+00</td>\n      <td>1.520000e+02</td>\n      <td>1.700000e+01</td>\n      <td>0.000000</td>\n      <td>0.000000</td>\n      <td>2.500000e+01</td>\n    </tr>\n    <tr>\n      <th>75%</th>\n      <td>2022.000000</td>\n      <td>9.000000</td>\n      <td>5.000000e+01</td>\n      <td>6.540000e+02</td>\n      <td>7.400000e+01</td>\n      <td>21.000000</td>\n      <td>0.000000</td>\n      <td>1.060000e+02</td>\n    </tr>\n    <tr>\n      <th>max</th>\n      <td>2023.000000</td>\n      <td>12.000000</td>\n      <td>1.145443e+06</td>\n      <td>1.224392e+07</td>\n      <td>1.159433e+06</td>\n      <td>568733.000000</td>\n      <td>22198.000000</td>\n      <td>1.755856e+06</td>\n    </tr>\n  </tbody>\n</table>\n</div>"
     },
     "execution_count": 6,
     "metadata": {},
     "output_type": "execute_result"
    }
   ],
   "source": [
    "df.describe()"
   ],
   "metadata": {
    "collapsed": false,
    "ExecuteTime": {
     "end_time": "2023-09-24T22:41:14.545176661Z",
     "start_time": "2023-09-24T22:41:14.502133556Z"
    }
   }
  },
  {
   "cell_type": "code",
   "execution_count": 7,
   "outputs": [
    {
     "data": {
      "text/plain": "   Data As Of  Start Date    End Date     Group  Year  Month          State  \\\n0  09/20/2023  01/01/2020  09/16/2023  By Total   NaN    NaN  United States   \n1  09/20/2023  01/01/2020  09/16/2023  By Total   NaN    NaN  United States   \n2  09/20/2023  01/01/2020  09/16/2023  By Total   NaN    NaN  United States   \n3  09/20/2023  01/01/2020  09/16/2023  By Total   NaN    NaN  United States   \n4  09/20/2023  01/01/2020  09/16/2023  By Total   NaN    NaN  United States   \n\n         Sex     Age Group  COVID-19 Deaths  Total Deaths  Pneumonia Deaths  \\\n0  All Sexes      All Ages        1145443.0    12243921.0         1159433.0   \n1  All Sexes  Under 1 year            519.0       72811.0            1050.0   \n2  All Sexes    0-17 years           1695.0      130217.0            2948.0   \n3  All Sexes     1-4 years            284.0       14222.0             688.0   \n4  All Sexes    5-14 years            509.0       21885.0             815.0   \n\n   Pneumonia and COVID-19 Deaths  Influenza Deaths  \\\n0                       568733.0           22198.0   \n1                           95.0              64.0   \n2                          424.0             509.0   \n3                           66.0             177.0   \n4                          143.0             219.0   \n\n   Pneumonia, Influenza, or COVID-19 Deaths Footnote  \n0                                 1755856.0      NaN  \n1                                    1535.0      NaN  \n2                                    4702.0      NaN  \n3                                    1074.0      NaN  \n4                                    1387.0      NaN  ",
      "text/html": "<div>\n<style scoped>\n    .dataframe tbody tr th:only-of-type {\n        vertical-align: middle;\n    }\n\n    .dataframe tbody tr th {\n        vertical-align: top;\n    }\n\n    .dataframe thead th {\n        text-align: right;\n    }\n</style>\n<table border=\"1\" class=\"dataframe\">\n  <thead>\n    <tr style=\"text-align: right;\">\n      <th></th>\n      <th>Data As Of</th>\n      <th>Start Date</th>\n      <th>End Date</th>\n      <th>Group</th>\n      <th>Year</th>\n      <th>Month</th>\n      <th>State</th>\n      <th>Sex</th>\n      <th>Age Group</th>\n      <th>COVID-19 Deaths</th>\n      <th>Total Deaths</th>\n      <th>Pneumonia Deaths</th>\n      <th>Pneumonia and COVID-19 Deaths</th>\n      <th>Influenza Deaths</th>\n      <th>Pneumonia, Influenza, or COVID-19 Deaths</th>\n      <th>Footnote</th>\n    </tr>\n  </thead>\n  <tbody>\n    <tr>\n      <th>0</th>\n      <td>09/20/2023</td>\n      <td>01/01/2020</td>\n      <td>09/16/2023</td>\n      <td>By Total</td>\n      <td>NaN</td>\n      <td>NaN</td>\n      <td>United States</td>\n      <td>All Sexes</td>\n      <td>All Ages</td>\n      <td>1145443.0</td>\n      <td>12243921.0</td>\n      <td>1159433.0</td>\n      <td>568733.0</td>\n      <td>22198.0</td>\n      <td>1755856.0</td>\n      <td>NaN</td>\n    </tr>\n    <tr>\n      <th>1</th>\n      <td>09/20/2023</td>\n      <td>01/01/2020</td>\n      <td>09/16/2023</td>\n      <td>By Total</td>\n      <td>NaN</td>\n      <td>NaN</td>\n      <td>United States</td>\n      <td>All Sexes</td>\n      <td>Under 1 year</td>\n      <td>519.0</td>\n      <td>72811.0</td>\n      <td>1050.0</td>\n      <td>95.0</td>\n      <td>64.0</td>\n      <td>1535.0</td>\n      <td>NaN</td>\n    </tr>\n    <tr>\n      <th>2</th>\n      <td>09/20/2023</td>\n      <td>01/01/2020</td>\n      <td>09/16/2023</td>\n      <td>By Total</td>\n      <td>NaN</td>\n      <td>NaN</td>\n      <td>United States</td>\n      <td>All Sexes</td>\n      <td>0-17 years</td>\n      <td>1695.0</td>\n      <td>130217.0</td>\n      <td>2948.0</td>\n      <td>424.0</td>\n      <td>509.0</td>\n      <td>4702.0</td>\n      <td>NaN</td>\n    </tr>\n    <tr>\n      <th>3</th>\n      <td>09/20/2023</td>\n      <td>01/01/2020</td>\n      <td>09/16/2023</td>\n      <td>By Total</td>\n      <td>NaN</td>\n      <td>NaN</td>\n      <td>United States</td>\n      <td>All Sexes</td>\n      <td>1-4 years</td>\n      <td>284.0</td>\n      <td>14222.0</td>\n      <td>688.0</td>\n      <td>66.0</td>\n      <td>177.0</td>\n      <td>1074.0</td>\n      <td>NaN</td>\n    </tr>\n    <tr>\n      <th>4</th>\n      <td>09/20/2023</td>\n      <td>01/01/2020</td>\n      <td>09/16/2023</td>\n      <td>By Total</td>\n      <td>NaN</td>\n      <td>NaN</td>\n      <td>United States</td>\n      <td>All Sexes</td>\n      <td>5-14 years</td>\n      <td>509.0</td>\n      <td>21885.0</td>\n      <td>815.0</td>\n      <td>143.0</td>\n      <td>219.0</td>\n      <td>1387.0</td>\n      <td>NaN</td>\n    </tr>\n  </tbody>\n</table>\n</div>"
     },
     "execution_count": 7,
     "metadata": {},
     "output_type": "execute_result"
    }
   ],
   "source": [
    "df.head()"
   ],
   "metadata": {
    "collapsed": false,
    "ExecuteTime": {
     "end_time": "2023-09-24T22:42:08.513800326Z",
     "start_time": "2023-09-24T22:42:08.507776826Z"
    }
   }
  },
  {
   "cell_type": "code",
   "execution_count": null,
   "outputs": [],
   "source": [],
   "metadata": {
    "collapsed": false
   }
  }
 ],
 "metadata": {
  "kernelspec": {
   "display_name": "Python 3",
   "language": "python",
   "name": "python3"
  },
  "language_info": {
   "codemirror_mode": {
    "name": "ipython",
    "version": 2
   },
   "file_extension": ".py",
   "mimetype": "text/x-python",
   "name": "python",
   "nbconvert_exporter": "python",
   "pygments_lexer": "ipython2",
   "version": "2.7.6"
  }
 },
 "nbformat": 4,
 "nbformat_minor": 0
}
